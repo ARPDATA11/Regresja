{
 "cells": [
  {
   "cell_type": "code",
   "execution_count": 53,
   "metadata": {
    "collapsed": true,
    "ExecuteTime": {
     "end_time": "2023-05-14T09:44:01.421469Z",
     "start_time": "2023-05-14T09:44:01.407468200Z"
    }
   },
   "outputs": [],
   "source": [
    "import matplotlib.pyplot as plt\n",
    "import pandas as pd\n",
    "import numpy as np\n",
    "from sklearn.linear_model import LinearRegression\n",
    "import seaborn as sns\n",
    "import plotly as plt\n",
    "import plotly.express as px\n",
    "from plotly.io import write_html\n",
    "from sklearn.metrics import r2_score, mean_absolute_error, mean_squared_error\n",
    "from sklearn.preprocessing import PolynomialFeatures\n",
    "\n",
    "from sklearn.model_selection import train_test_split\n",
    "from plotly.subplots import make_subplots\n",
    "import plotly.graph_objs as go\n",
    "from sklearn.linear_model import LinearRegression\n",
    "from sklearn.tree import DecisionTreeRegressor\n",
    "from sklearn.model_selection import train_test_split\n",
    "from sklearn.metrics import mean_squared_error\n",
    "import datetime as dt"
   ]
  },
  {
   "cell_type": "code",
   "execution_count": 46,
   "outputs": [],
   "source": [
    "df = pd.read_csv('weatherHistory.csv')"
   ],
   "metadata": {
    "collapsed": false,
    "ExecuteTime": {
     "end_time": "2023-05-14T09:06:50.617894900Z",
     "start_time": "2023-05-14T09:06:50.318895800Z"
    }
   }
  },
  {
   "cell_type": "code",
   "execution_count": 50,
   "outputs": [
    {
     "data": {
      "text/plain": "                      Formatted Date        Summary Precip Type   \n96353  2016-09-05 20:00:00.000 +0200  Mostly Cloudy        rain  \\\n96354  2016-09-05 21:00:00.000 +0200  Mostly Cloudy        rain   \n96355  2016-09-05 22:00:00.000 +0200  Mostly Cloudy        rain   \n96356  2016-09-05 23:00:00.000 +0200  Partly Cloudy        rain   \n96357  2016-09-06 00:00:00.000 +0200  Partly Cloudy        rain   \n...                              ...            ...         ...   \n96448  2016-09-09 19:00:00.000 +0200  Partly Cloudy        rain   \n96449  2016-09-09 20:00:00.000 +0200  Partly Cloudy        rain   \n96450  2016-09-09 21:00:00.000 +0200  Partly Cloudy        rain   \n96451  2016-09-09 22:00:00.000 +0200  Partly Cloudy        rain   \n96452  2016-09-09 23:00:00.000 +0200  Partly Cloudy        rain   \n\n       Temperature (C)  Apparent Temperature (C)  Humidity  Wind Speed (km/h)   \n96353        16.111111                 16.111111      0.93             9.6600  \\\n96354        15.950000                 15.950000      0.93             0.5152   \n96355        15.366667                 15.366667      0.96             3.2039   \n96356        15.366667                 15.366667      0.94             6.5527   \n96357        14.327778                 14.327778      0.93             3.4293   \n...                ...                       ...       ...                ...   \n96448        26.016667                 26.016667      0.43            10.9963   \n96449        24.583333                 24.583333      0.48            10.0947   \n96450        22.038889                 22.038889      0.56             8.9838   \n96451        21.522222                 21.522222      0.60            10.5294   \n96452        20.438889                 20.438889      0.61             5.8765   \n\n       Wind Bearing (degrees)  Visibility (km)  Loud Cover   \n96353                   240.0           9.9820         0.0  \\\n96354                   290.0          10.2557         0.0   \n96355                   239.0          16.0517         0.0   \n96356                   281.0          15.0213         0.0   \n96357                   281.0          15.7297         0.0   \n...                       ...              ...         ...   \n96448                    31.0          16.1000         0.0   \n96449                    20.0          15.5526         0.0   \n96450                    30.0          16.1000         0.0   \n96451                    20.0          16.1000         0.0   \n96452                    39.0          15.5204         0.0   \n\n       Pressure (millibars)                           Daily Summary  \n96353               1013.41       Mostly cloudy throughout the day.  \n96354               1013.37       Mostly cloudy throughout the day.  \n96355               1013.77       Mostly cloudy throughout the day.  \n96356               1013.96       Mostly cloudy throughout the day.  \n96357               1013.77       Mostly cloudy starting overnight.  \n...                     ...                                     ...  \n96448               1014.36  Partly cloudy starting in the morning.  \n96449               1015.16  Partly cloudy starting in the morning.  \n96450               1015.66  Partly cloudy starting in the morning.  \n96451               1015.95  Partly cloudy starting in the morning.  \n96452               1016.16  Partly cloudy starting in the morning.  \n\n[100 rows x 12 columns]",
      "text/html": "<div>\n<style scoped>\n    .dataframe tbody tr th:only-of-type {\n        vertical-align: middle;\n    }\n\n    .dataframe tbody tr th {\n        vertical-align: top;\n    }\n\n    .dataframe thead th {\n        text-align: right;\n    }\n</style>\n<table border=\"1\" class=\"dataframe\">\n  <thead>\n    <tr style=\"text-align: right;\">\n      <th></th>\n      <th>Formatted Date</th>\n      <th>Summary</th>\n      <th>Precip Type</th>\n      <th>Temperature (C)</th>\n      <th>Apparent Temperature (C)</th>\n      <th>Humidity</th>\n      <th>Wind Speed (km/h)</th>\n      <th>Wind Bearing (degrees)</th>\n      <th>Visibility (km)</th>\n      <th>Loud Cover</th>\n      <th>Pressure (millibars)</th>\n      <th>Daily Summary</th>\n    </tr>\n  </thead>\n  <tbody>\n    <tr>\n      <th>96353</th>\n      <td>2016-09-05 20:00:00.000 +0200</td>\n      <td>Mostly Cloudy</td>\n      <td>rain</td>\n      <td>16.111111</td>\n      <td>16.111111</td>\n      <td>0.93</td>\n      <td>9.6600</td>\n      <td>240.0</td>\n      <td>9.9820</td>\n      <td>0.0</td>\n      <td>1013.41</td>\n      <td>Mostly cloudy throughout the day.</td>\n    </tr>\n    <tr>\n      <th>96354</th>\n      <td>2016-09-05 21:00:00.000 +0200</td>\n      <td>Mostly Cloudy</td>\n      <td>rain</td>\n      <td>15.950000</td>\n      <td>15.950000</td>\n      <td>0.93</td>\n      <td>0.5152</td>\n      <td>290.0</td>\n      <td>10.2557</td>\n      <td>0.0</td>\n      <td>1013.37</td>\n      <td>Mostly cloudy throughout the day.</td>\n    </tr>\n    <tr>\n      <th>96355</th>\n      <td>2016-09-05 22:00:00.000 +0200</td>\n      <td>Mostly Cloudy</td>\n      <td>rain</td>\n      <td>15.366667</td>\n      <td>15.366667</td>\n      <td>0.96</td>\n      <td>3.2039</td>\n      <td>239.0</td>\n      <td>16.0517</td>\n      <td>0.0</td>\n      <td>1013.77</td>\n      <td>Mostly cloudy throughout the day.</td>\n    </tr>\n    <tr>\n      <th>96356</th>\n      <td>2016-09-05 23:00:00.000 +0200</td>\n      <td>Partly Cloudy</td>\n      <td>rain</td>\n      <td>15.366667</td>\n      <td>15.366667</td>\n      <td>0.94</td>\n      <td>6.5527</td>\n      <td>281.0</td>\n      <td>15.0213</td>\n      <td>0.0</td>\n      <td>1013.96</td>\n      <td>Mostly cloudy throughout the day.</td>\n    </tr>\n    <tr>\n      <th>96357</th>\n      <td>2016-09-06 00:00:00.000 +0200</td>\n      <td>Partly Cloudy</td>\n      <td>rain</td>\n      <td>14.327778</td>\n      <td>14.327778</td>\n      <td>0.93</td>\n      <td>3.4293</td>\n      <td>281.0</td>\n      <td>15.7297</td>\n      <td>0.0</td>\n      <td>1013.77</td>\n      <td>Mostly cloudy starting overnight.</td>\n    </tr>\n    <tr>\n      <th>...</th>\n      <td>...</td>\n      <td>...</td>\n      <td>...</td>\n      <td>...</td>\n      <td>...</td>\n      <td>...</td>\n      <td>...</td>\n      <td>...</td>\n      <td>...</td>\n      <td>...</td>\n      <td>...</td>\n      <td>...</td>\n    </tr>\n    <tr>\n      <th>96448</th>\n      <td>2016-09-09 19:00:00.000 +0200</td>\n      <td>Partly Cloudy</td>\n      <td>rain</td>\n      <td>26.016667</td>\n      <td>26.016667</td>\n      <td>0.43</td>\n      <td>10.9963</td>\n      <td>31.0</td>\n      <td>16.1000</td>\n      <td>0.0</td>\n      <td>1014.36</td>\n      <td>Partly cloudy starting in the morning.</td>\n    </tr>\n    <tr>\n      <th>96449</th>\n      <td>2016-09-09 20:00:00.000 +0200</td>\n      <td>Partly Cloudy</td>\n      <td>rain</td>\n      <td>24.583333</td>\n      <td>24.583333</td>\n      <td>0.48</td>\n      <td>10.0947</td>\n      <td>20.0</td>\n      <td>15.5526</td>\n      <td>0.0</td>\n      <td>1015.16</td>\n      <td>Partly cloudy starting in the morning.</td>\n    </tr>\n    <tr>\n      <th>96450</th>\n      <td>2016-09-09 21:00:00.000 +0200</td>\n      <td>Partly Cloudy</td>\n      <td>rain</td>\n      <td>22.038889</td>\n      <td>22.038889</td>\n      <td>0.56</td>\n      <td>8.9838</td>\n      <td>30.0</td>\n      <td>16.1000</td>\n      <td>0.0</td>\n      <td>1015.66</td>\n      <td>Partly cloudy starting in the morning.</td>\n    </tr>\n    <tr>\n      <th>96451</th>\n      <td>2016-09-09 22:00:00.000 +0200</td>\n      <td>Partly Cloudy</td>\n      <td>rain</td>\n      <td>21.522222</td>\n      <td>21.522222</td>\n      <td>0.60</td>\n      <td>10.5294</td>\n      <td>20.0</td>\n      <td>16.1000</td>\n      <td>0.0</td>\n      <td>1015.95</td>\n      <td>Partly cloudy starting in the morning.</td>\n    </tr>\n    <tr>\n      <th>96452</th>\n      <td>2016-09-09 23:00:00.000 +0200</td>\n      <td>Partly Cloudy</td>\n      <td>rain</td>\n      <td>20.438889</td>\n      <td>20.438889</td>\n      <td>0.61</td>\n      <td>5.8765</td>\n      <td>39.0</td>\n      <td>15.5204</td>\n      <td>0.0</td>\n      <td>1016.16</td>\n      <td>Partly cloudy starting in the morning.</td>\n    </tr>\n  </tbody>\n</table>\n<p>100 rows × 12 columns</p>\n</div>"
     },
     "execution_count": 50,
     "metadata": {},
     "output_type": "execute_result"
    }
   ],
   "source": [
    "df.tail(100)"
   ],
   "metadata": {
    "collapsed": false,
    "ExecuteTime": {
     "end_time": "2023-05-14T09:09:20.243256600Z",
     "start_time": "2023-05-14T09:09:20.209254700Z"
    }
   }
  },
  {
   "cell_type": "code",
   "execution_count": 48,
   "outputs": [
    {
     "name": "stdout",
     "output_type": "stream",
     "text": [
      "<class 'pandas.core.frame.DataFrame'>\n",
      "RangeIndex: 96453 entries, 0 to 96452\n",
      "Data columns (total 12 columns):\n",
      " #   Column                    Non-Null Count  Dtype  \n",
      "---  ------                    --------------  -----  \n",
      " 0   Formatted Date            96453 non-null  object \n",
      " 1   Summary                   96453 non-null  object \n",
      " 2   Precip Type               95936 non-null  object \n",
      " 3   Temperature (C)           96453 non-null  float64\n",
      " 4   Apparent Temperature (C)  96453 non-null  float64\n",
      " 5   Humidity                  96453 non-null  float64\n",
      " 6   Wind Speed (km/h)         96453 non-null  float64\n",
      " 7   Wind Bearing (degrees)    96453 non-null  float64\n",
      " 8   Visibility (km)           96453 non-null  float64\n",
      " 9   Loud Cover                96453 non-null  float64\n",
      " 10  Pressure (millibars)      96453 non-null  float64\n",
      " 11  Daily Summary             96453 non-null  object \n",
      "dtypes: float64(8), object(4)\n",
      "memory usage: 8.8+ MB\n"
     ]
    }
   ],
   "source": [
    "df.info()"
   ],
   "metadata": {
    "collapsed": false,
    "ExecuteTime": {
     "end_time": "2023-05-14T09:07:04.494725700Z",
     "start_time": "2023-05-14T09:07:04.489733700Z"
    }
   }
  },
  {
   "cell_type": "code",
   "execution_count": 51,
   "outputs": [
    {
     "data": {
      "text/plain": "       Temperature (C)  Apparent Temperature (C)      Humidity   \ncount     96453.000000              96453.000000  96453.000000  \\\nmean         11.932678                 10.855029      0.734899   \nstd           9.551546                 10.696847      0.195473   \nmin         -21.822222                -27.716667      0.000000   \n25%           4.688889                  2.311111      0.600000   \n50%          12.000000                 12.000000      0.780000   \n75%          18.838889                 18.838889      0.890000   \nmax          39.905556                 39.344444      1.000000   \n\n       Wind Speed (km/h)  Wind Bearing (degrees)  Visibility (km)  Loud Cover   \ncount       96453.000000            96453.000000     96453.000000     96453.0  \\\nmean           10.810640              187.509232        10.347325         0.0   \nstd             6.913571              107.383428         4.192123         0.0   \nmin             0.000000                0.000000         0.000000         0.0   \n25%             5.828200              116.000000         8.339800         0.0   \n50%             9.965900              180.000000        10.046400         0.0   \n75%            14.135800              290.000000        14.812000         0.0   \nmax            63.852600              359.000000        16.100000         0.0   \n\n       Pressure (millibars)  \ncount          96453.000000  \nmean            1003.235956  \nstd              116.969906  \nmin                0.000000  \n25%             1011.900000  \n50%             1016.450000  \n75%             1021.090000  \nmax             1046.380000  ",
      "text/html": "<div>\n<style scoped>\n    .dataframe tbody tr th:only-of-type {\n        vertical-align: middle;\n    }\n\n    .dataframe tbody tr th {\n        vertical-align: top;\n    }\n\n    .dataframe thead th {\n        text-align: right;\n    }\n</style>\n<table border=\"1\" class=\"dataframe\">\n  <thead>\n    <tr style=\"text-align: right;\">\n      <th></th>\n      <th>Temperature (C)</th>\n      <th>Apparent Temperature (C)</th>\n      <th>Humidity</th>\n      <th>Wind Speed (km/h)</th>\n      <th>Wind Bearing (degrees)</th>\n      <th>Visibility (km)</th>\n      <th>Loud Cover</th>\n      <th>Pressure (millibars)</th>\n    </tr>\n  </thead>\n  <tbody>\n    <tr>\n      <th>count</th>\n      <td>96453.000000</td>\n      <td>96453.000000</td>\n      <td>96453.000000</td>\n      <td>96453.000000</td>\n      <td>96453.000000</td>\n      <td>96453.000000</td>\n      <td>96453.0</td>\n      <td>96453.000000</td>\n    </tr>\n    <tr>\n      <th>mean</th>\n      <td>11.932678</td>\n      <td>10.855029</td>\n      <td>0.734899</td>\n      <td>10.810640</td>\n      <td>187.509232</td>\n      <td>10.347325</td>\n      <td>0.0</td>\n      <td>1003.235956</td>\n    </tr>\n    <tr>\n      <th>std</th>\n      <td>9.551546</td>\n      <td>10.696847</td>\n      <td>0.195473</td>\n      <td>6.913571</td>\n      <td>107.383428</td>\n      <td>4.192123</td>\n      <td>0.0</td>\n      <td>116.969906</td>\n    </tr>\n    <tr>\n      <th>min</th>\n      <td>-21.822222</td>\n      <td>-27.716667</td>\n      <td>0.000000</td>\n      <td>0.000000</td>\n      <td>0.000000</td>\n      <td>0.000000</td>\n      <td>0.0</td>\n      <td>0.000000</td>\n    </tr>\n    <tr>\n      <th>25%</th>\n      <td>4.688889</td>\n      <td>2.311111</td>\n      <td>0.600000</td>\n      <td>5.828200</td>\n      <td>116.000000</td>\n      <td>8.339800</td>\n      <td>0.0</td>\n      <td>1011.900000</td>\n    </tr>\n    <tr>\n      <th>50%</th>\n      <td>12.000000</td>\n      <td>12.000000</td>\n      <td>0.780000</td>\n      <td>9.965900</td>\n      <td>180.000000</td>\n      <td>10.046400</td>\n      <td>0.0</td>\n      <td>1016.450000</td>\n    </tr>\n    <tr>\n      <th>75%</th>\n      <td>18.838889</td>\n      <td>18.838889</td>\n      <td>0.890000</td>\n      <td>14.135800</td>\n      <td>290.000000</td>\n      <td>14.812000</td>\n      <td>0.0</td>\n      <td>1021.090000</td>\n    </tr>\n    <tr>\n      <th>max</th>\n      <td>39.905556</td>\n      <td>39.344444</td>\n      <td>1.000000</td>\n      <td>63.852600</td>\n      <td>359.000000</td>\n      <td>16.100000</td>\n      <td>0.0</td>\n      <td>1046.380000</td>\n    </tr>\n  </tbody>\n</table>\n</div>"
     },
     "execution_count": 51,
     "metadata": {},
     "output_type": "execute_result"
    }
   ],
   "source": [
    "df.describe()"
   ],
   "metadata": {
    "collapsed": false,
    "ExecuteTime": {
     "end_time": "2023-05-14T09:19:06.409348900Z",
     "start_time": "2023-05-14T09:19:06.346348700Z"
    }
   }
  },
  {
   "cell_type": "code",
   "execution_count": 54,
   "outputs": [],
   "source": [
    "df['Date'] = pd.to_datetime(df['Formatted Date'], utc=True)\n",
    "df['Month'] = df['Date'].dt.month"
   ],
   "metadata": {
    "collapsed": false,
    "ExecuteTime": {
     "end_time": "2023-05-14T09:44:10.290248600Z",
     "start_time": "2023-05-14T09:44:09.207217900Z"
    }
   }
  },
  {
   "cell_type": "code",
   "execution_count": 55,
   "outputs": [
    {
     "data": {
      "text/plain": "                  Formatted Date        Summary Precip Type  Temperature (C)   \n0  2006-04-01 00:00:00.000 +0200  Partly Cloudy        rain         9.472222  \\\n1  2006-04-01 01:00:00.000 +0200  Partly Cloudy        rain         9.355556   \n2  2006-04-01 02:00:00.000 +0200  Mostly Cloudy        rain         9.377778   \n3  2006-04-01 03:00:00.000 +0200  Partly Cloudy        rain         8.288889   \n4  2006-04-01 04:00:00.000 +0200  Mostly Cloudy        rain         8.755556   \n\n   Apparent Temperature (C)  Humidity  Wind Speed (km/h)   \n0                  7.388889      0.89            14.1197  \\\n1                  7.227778      0.86            14.2646   \n2                  9.377778      0.89             3.9284   \n3                  5.944444      0.83            14.1036   \n4                  6.977778      0.83            11.0446   \n\n   Wind Bearing (degrees)  Visibility (km)  Loud Cover  Pressure (millibars)   \n0                   251.0          15.8263         0.0               1015.13  \\\n1                   259.0          15.8263         0.0               1015.63   \n2                   204.0          14.9569         0.0               1015.94   \n3                   269.0          15.8263         0.0               1016.41   \n4                   259.0          15.8263         0.0               1016.51   \n\n                       Daily Summary                      Date  Month  \n0  Partly cloudy throughout the day. 2006-03-31 22:00:00+00:00      3  \n1  Partly cloudy throughout the day. 2006-03-31 23:00:00+00:00      3  \n2  Partly cloudy throughout the day. 2006-04-01 00:00:00+00:00      4  \n3  Partly cloudy throughout the day. 2006-04-01 01:00:00+00:00      4  \n4  Partly cloudy throughout the day. 2006-04-01 02:00:00+00:00      4  ",
      "text/html": "<div>\n<style scoped>\n    .dataframe tbody tr th:only-of-type {\n        vertical-align: middle;\n    }\n\n    .dataframe tbody tr th {\n        vertical-align: top;\n    }\n\n    .dataframe thead th {\n        text-align: right;\n    }\n</style>\n<table border=\"1\" class=\"dataframe\">\n  <thead>\n    <tr style=\"text-align: right;\">\n      <th></th>\n      <th>Formatted Date</th>\n      <th>Summary</th>\n      <th>Precip Type</th>\n      <th>Temperature (C)</th>\n      <th>Apparent Temperature (C)</th>\n      <th>Humidity</th>\n      <th>Wind Speed (km/h)</th>\n      <th>Wind Bearing (degrees)</th>\n      <th>Visibility (km)</th>\n      <th>Loud Cover</th>\n      <th>Pressure (millibars)</th>\n      <th>Daily Summary</th>\n      <th>Date</th>\n      <th>Month</th>\n    </tr>\n  </thead>\n  <tbody>\n    <tr>\n      <th>0</th>\n      <td>2006-04-01 00:00:00.000 +0200</td>\n      <td>Partly Cloudy</td>\n      <td>rain</td>\n      <td>9.472222</td>\n      <td>7.388889</td>\n      <td>0.89</td>\n      <td>14.1197</td>\n      <td>251.0</td>\n      <td>15.8263</td>\n      <td>0.0</td>\n      <td>1015.13</td>\n      <td>Partly cloudy throughout the day.</td>\n      <td>2006-03-31 22:00:00+00:00</td>\n      <td>3</td>\n    </tr>\n    <tr>\n      <th>1</th>\n      <td>2006-04-01 01:00:00.000 +0200</td>\n      <td>Partly Cloudy</td>\n      <td>rain</td>\n      <td>9.355556</td>\n      <td>7.227778</td>\n      <td>0.86</td>\n      <td>14.2646</td>\n      <td>259.0</td>\n      <td>15.8263</td>\n      <td>0.0</td>\n      <td>1015.63</td>\n      <td>Partly cloudy throughout the day.</td>\n      <td>2006-03-31 23:00:00+00:00</td>\n      <td>3</td>\n    </tr>\n    <tr>\n      <th>2</th>\n      <td>2006-04-01 02:00:00.000 +0200</td>\n      <td>Mostly Cloudy</td>\n      <td>rain</td>\n      <td>9.377778</td>\n      <td>9.377778</td>\n      <td>0.89</td>\n      <td>3.9284</td>\n      <td>204.0</td>\n      <td>14.9569</td>\n      <td>0.0</td>\n      <td>1015.94</td>\n      <td>Partly cloudy throughout the day.</td>\n      <td>2006-04-01 00:00:00+00:00</td>\n      <td>4</td>\n    </tr>\n    <tr>\n      <th>3</th>\n      <td>2006-04-01 03:00:00.000 +0200</td>\n      <td>Partly Cloudy</td>\n      <td>rain</td>\n      <td>8.288889</td>\n      <td>5.944444</td>\n      <td>0.83</td>\n      <td>14.1036</td>\n      <td>269.0</td>\n      <td>15.8263</td>\n      <td>0.0</td>\n      <td>1016.41</td>\n      <td>Partly cloudy throughout the day.</td>\n      <td>2006-04-01 01:00:00+00:00</td>\n      <td>4</td>\n    </tr>\n    <tr>\n      <th>4</th>\n      <td>2006-04-01 04:00:00.000 +0200</td>\n      <td>Mostly Cloudy</td>\n      <td>rain</td>\n      <td>8.755556</td>\n      <td>6.977778</td>\n      <td>0.83</td>\n      <td>11.0446</td>\n      <td>259.0</td>\n      <td>15.8263</td>\n      <td>0.0</td>\n      <td>1016.51</td>\n      <td>Partly cloudy throughout the day.</td>\n      <td>2006-04-01 02:00:00+00:00</td>\n      <td>4</td>\n    </tr>\n  </tbody>\n</table>\n</div>"
     },
     "execution_count": 55,
     "metadata": {},
     "output_type": "execute_result"
    }
   ],
   "source": [
    "df.head()"
   ],
   "metadata": {
    "collapsed": false,
    "ExecuteTime": {
     "end_time": "2023-05-14T09:44:15.535752400Z",
     "start_time": "2023-05-14T09:44:15.504751100Z"
    }
   }
  },
  {
   "cell_type": "code",
   "execution_count": 56,
   "outputs": [
    {
     "name": "stdout",
     "output_type": "stream",
     "text": [
      "<class 'pandas.core.frame.DataFrame'>\n",
      "RangeIndex: 96453 entries, 0 to 96452\n",
      "Data columns (total 14 columns):\n",
      " #   Column                    Non-Null Count  Dtype              \n",
      "---  ------                    --------------  -----              \n",
      " 0   Formatted Date            96453 non-null  object             \n",
      " 1   Summary                   96453 non-null  object             \n",
      " 2   Precip Type               95936 non-null  object             \n",
      " 3   Temperature (C)           96453 non-null  float64            \n",
      " 4   Apparent Temperature (C)  96453 non-null  float64            \n",
      " 5   Humidity                  96453 non-null  float64            \n",
      " 6   Wind Speed (km/h)         96453 non-null  float64            \n",
      " 7   Wind Bearing (degrees)    96453 non-null  float64            \n",
      " 8   Visibility (km)           96453 non-null  float64            \n",
      " 9   Loud Cover                96453 non-null  float64            \n",
      " 10  Pressure (millibars)      96453 non-null  float64            \n",
      " 11  Daily Summary             96453 non-null  object             \n",
      " 12  Date                      96453 non-null  datetime64[ns, UTC]\n",
      " 13  Month                     96453 non-null  int32              \n",
      "dtypes: datetime64[ns, UTC](1), float64(8), int32(1), object(4)\n",
      "memory usage: 9.9+ MB\n"
     ]
    }
   ],
   "source": [
    "df.info()"
   ],
   "metadata": {
    "collapsed": false,
    "ExecuteTime": {
     "end_time": "2023-05-14T09:44:31.310120300Z",
     "start_time": "2023-05-14T09:44:31.211128900Z"
    }
   }
  },
  {
   "cell_type": "code",
   "execution_count": null,
   "outputs": [],
   "source": [],
   "metadata": {
    "collapsed": false
   }
  }
 ],
 "metadata": {
  "kernelspec": {
   "display_name": "Python 3",
   "language": "python",
   "name": "python3"
  },
  "language_info": {
   "codemirror_mode": {
    "name": "ipython",
    "version": 2
   },
   "file_extension": ".py",
   "mimetype": "text/x-python",
   "name": "python",
   "nbconvert_exporter": "python",
   "pygments_lexer": "ipython2",
   "version": "2.7.6"
  }
 },
 "nbformat": 4,
 "nbformat_minor": 0
}
